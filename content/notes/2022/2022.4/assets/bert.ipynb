{
  "cells": [
    {
      "cell_type": "code",
      "execution_count": 17,
      "metadata": {
        "id": "RcJt4bp5hATI",
        "origin_pos": 2,
        "tab": [
          "pytorch"
        ]
      },
      "outputs": [],
      "source": [
        "import torch\n",
        "from torch import nn\n",
        "from d2l import torch as d2l"
      ]
    },
    {
      "cell_type": "markdown",
      "metadata": {
        "id": "kaLQrbg4hATK",
        "origin_pos": 3
      },
      "source": [
        "## 输入表示\n",
        "下面的`get_tokens_and_segments`将一个句子或两个句子作为输入，然后返回BERT输入序列的标记及其相应的片段索引。"
      ]
    },
    {
      "cell_type": "code",
      "execution_count": 18,
      "metadata": {
        "id": "T7SvOJAzhATM",
        "origin_pos": 4,
        "tab": [
          "pytorch"
        ]
      },
      "outputs": [],
      "source": [
        "#@save\n",
        "def get_tokens_and_segments(tokens_a, tokens_b=None):\n",
        "    \"\"\"获取输入序列的词元及其片段索引\"\"\"\n",
        "    tokens = ['<cls>'] + tokens_a + ['<sep>'] # 这是第一个句子\n",
        "    # 0和1分别标记片段A和B\n",
        "    segments = [0] * (len(tokens_a) + 2) # 标记第一个句子的segment索引\n",
        "    if tokens_b is not None: # 如果有第二个句子\n",
        "        tokens += tokens_b + ['<sep>'] # 将第二个句子添加到tokens中\n",
        "        segments += [1] * (len(tokens_b) + 1) # 标记第二个句子的segment索引\n",
        "    return tokens, segments"
      ]
    },
    {
      "cell_type": "markdown",
      "metadata": {
        "id": "3baDed-khATN",
        "origin_pos": 5
      },
      "source": [
        "下面的`BERTEncoder`类类似于 :numref:`sec_transformer`中实现的`TransformerEncoder`类。与`TransformerEncoder`不同，`BERTEncoder`使用片段嵌入和可学习的位置嵌入。\n"
      ]
    },
    {
      "cell_type": "code",
      "execution_count": 19,
      "metadata": {
        "id": "0NBeRMWzhATO",
        "origin_pos": 7,
        "tab": [
          "pytorch"
        ]
      },
      "outputs": [],
      "source": [
        "class BERTEncoder(nn.Module):\n",
        "    \"\"\"BERT编码器\"\"\"\n",
        "\n",
        "    def __init__(self,\n",
        "                 vocab_size, # 词汇表大小\n",
        "                 num_hiddens, # 隐藏层大小, 也就是每个词向量的长度, 也是自多头注意力的hidden维度\n",
        "                 norm_shape, # Layer Norm 的输入\n",
        "                 ffn_num_input, # FFN的输入大小\n",
        "                 ffn_num_hiddens, \n",
        "                 num_heads, # 注意力头数\n",
        "                 num_layers, # 一共要多少个Encoder块\n",
        "                 dropout,\n",
        "                 max_len=1000, # 可学习的位置编码的长度, 应该要大于输入语句的最大程度\n",
        "                 key_size=768, # Key的大小, Query的大小, Value的大小都是一样的, 因为Encoder里面用的是自注意力\n",
        "                 query_size=768, \n",
        "                 value_size=768,\n",
        "                 **kwargs):\n",
        "        super(BERTEncoder, self).__init__(**kwargs)\n",
        "        # token_embedding 将词元编码为词向量\n",
        "        self.token_embedding = nn.Embedding(vocab_size, num_hiddens)\n",
        "        # 这是片段嵌入, 也就是区分两个句子的\n",
        "        self.segment_embedding = nn.Embedding(2, num_hiddens)\n",
        "        # 位置嵌入: 在BERT中，位置嵌入是可学习的，因此我们创建一个足够长的位置嵌入参数\n",
        "        self.pos_embedding = nn.Parameter(torch.randn(1, max_len,\n",
        "                                                      num_hiddens))\n",
        "        # 下面是网络的主题部分: Transformer编码器\n",
        "        self.blks = nn.Sequential()\n",
        "        for i in range(num_layers):\n",
        "            self.blks.add_module(f\"{i}\", d2l.EncoderBlock(\n",
        "                key_size, query_size, value_size, num_hiddens, norm_shape,\n",
        "                ffn_num_input, ffn_num_hiddens, num_heads, dropout, True))\n",
        "\n",
        "    def forward(self, tokens, segments, valid_lens):\n",
        "        # 在以下代码段中，X的形状保持不变：（批量大小，最大序列长度，num_hiddens）\n",
        "        # 先进行词嵌入和segment embedding\n",
        "        X = self.token_embedding(tokens) + self.segment_embedding(segments)\n",
        "        # 再进行位置嵌入\n",
        "        X = X + self.pos_embedding.data[:, :X.shape[1], :]\n",
        "        # 将处理好的输入放进Transformer编码器中\n",
        "        for blk in self.blks:\n",
        "            X = blk(X, valid_lens)\n",
        "        return X\n"
      ]
    },
    {
      "cell_type": "markdown",
      "metadata": {
        "id": "qu9xttlThATQ",
        "origin_pos": 8
      },
      "source": [
        "假设词表大小为10000，为了演示`BERTEncoder`的前向推断，让我们创建一个实例并初始化它的参数。\n"
      ]
    },
    {
      "cell_type": "code",
      "execution_count": 20,
      "metadata": {
        "id": "v8MAgC9WhATS",
        "origin_pos": 10,
        "tab": [
          "pytorch"
        ]
      },
      "outputs": [],
      "source": [
        "vocab_size, num_hiddens, ffn_num_hiddens, num_heads = 10000, 768, 1024, 4\n",
        "norm_shape, ffn_num_input, num_layers, dropout = [768], 768, 2, 0.2\n",
        "encoder = BERTEncoder(vocab_size, num_hiddens, norm_shape, ffn_num_input,\n",
        "                      ffn_num_hiddens, num_heads, num_layers, dropout)"
      ]
    },
    {
      "cell_type": "markdown",
      "metadata": {
        "id": "bQNRozRghATS",
        "origin_pos": 11
      },
      "source": [
        "下面试一试"
      ]
    },
    {
      "cell_type": "code",
      "execution_count": 33,
      "metadata": {
        "id": "UQ0OP780hATT",
        "origin_pos": 13,
        "outputId": "5037df92-d263-4b41-95bb-fe2b7a3a912c",
        "tab": [
          "pytorch"
        ]
      },
      "outputs": [
        {
          "data": {
            "text/plain": [
              "torch.Size([2, 8, 768])"
            ]
          },
          "execution_count": 33,
          "metadata": {},
          "output_type": "execute_result"
        }
      ],
      "source": [
        "# 创建两个长度为8的输入, 每个元素是一个还没有embedding的词元\n",
        "tokens = torch.randint(0, vocab_size, (2, 8))\n",
        "# 这是segment embedding, \n",
        "# 第一个输入是 <cls> A B <sep> C D E <sep>\n",
        "# 第二个输入是 <cls> A <sep> B C D E <sep>\n",
        "segments = torch.tensor([[0, 0, 0, 0, 1, 1, 1, 1], [0, 0, 0, 1, 1, 1, 1, 1]])\n",
        "# 然后把输入放进BERT encoder, 注意我们没有给valid_lens, 表示全部都是有效的\n",
        "encoded_X = encoder(tokens, segments, None)\n",
        "# 看看输出的形状\n",
        "encoded_X.shape\n",
        "# 输出了输入序列的\"高级编码\", 前两个维度是不变的, 最后一个维度变成了BERT的hidden_size, 也就是BERT内部的特征大小"
      ]
    },
    {
      "cell_type": "markdown",
      "metadata": {
        "id": "8_i1pmkohATU",
        "origin_pos": 14
      },
      "source": [
        "## 预训练任务\n",
        "\n",
        "### 掩蔽语言模型（Masked Language Modeling）\n",
        "我们实现了下面的`MaskLM`类来预测BERT预训练的掩蔽语言模型任务中的掩蔽标记。\n",
        "\n",
        "预测使用单隐藏层的多层感知机（`self.mlp`）。\n",
        "\n",
        "在前向推断中，它需要两个输入：`BERTEncoder`的编码结果和用于预测的词元位置。输出是这些位置的预测结果。\n"
      ]
    },
    {
      "cell_type": "code",
      "execution_count": 6,
      "metadata": {
        "id": "KpwRRxxqhATV",
        "origin_pos": 16,
        "tab": [
          "pytorch"
        ]
      },
      "outputs": [],
      "source": [
        "class MaskLM(nn.Module):\n",
        "    \"\"\"BERT的掩蔽语言模型任务\"\"\"\n",
        "\n",
        "    def __init__(self, vocab_size, num_hiddens, num_inputs=768, **kwargs):\n",
        "        super(MaskLM, self).__init__(**kwargs)\n",
        "        self.mlp = nn.Sequential(\n",
        "            nn.Linear(num_inputs, num_hiddens),\n",
        "            nn.ReLU(),\n",
        "            nn.LayerNorm(num_hiddens),  # 这里还有一个LayerNorm层\n",
        "            nn.Linear(num_hiddens, vocab_size))\n",
        "\n",
        "    def forward(self, X, pred_positions):\n",
        "        num_pred_positions = pred_positions.shape[1]  # 一共有多少个位置需要预测\n",
        "        pred_positions = pred_positions.reshape(-1)  # 全部排成一列\n",
        "        batch_size = X.shape[0]\n",
        "        batch_idx = torch.arange(0, batch_size)  # batch的序号\n",
        "        # 假设batch_size=4，num_pred_positions=2\n",
        "        # 那么batch_idx是np.array（[0,0,1,1,2,2,3,3]）\n",
        "        batch_idx = torch.repeat_interleave(batch_idx, num_pred_positions) # 等价于 np.repeat([0,1,2,3], 2)\n",
        "        # 取出X里面需要预测的位置\n",
        "        masked_X = X[batch_idx, pred_positions]\n",
        "        masked_X = masked_X.reshape((batch_size, num_pred_positions, -1))\n",
        "        # 进行预测\n",
        "        mlm_Y_hat = self.mlp(masked_X)\n",
        "        return mlm_Y_hat\n"
      ]
    },
    {
      "cell_type": "markdown",
      "metadata": {
        "id": "Ak1t9ccthATV",
        "origin_pos": 17
      },
      "source": [
        "预测一下"
      ]
    },
    {
      "cell_type": "code",
      "execution_count": 11,
      "metadata": {
        "id": "x550EbOUhATV",
        "origin_pos": 19,
        "outputId": "f72033bb-11b7-490d-c827-3137f9032f20",
        "tab": [
          "pytorch"
        ]
      },
      "outputs": [
        {
          "data": {
            "text/plain": [
              "torch.Size([2, 3, 10000])"
            ]
          },
          "execution_count": 11,
          "metadata": {},
          "output_type": "execute_result"
        }
      ],
      "source": [
        "mlm = MaskLM(vocab_size, num_hiddens)\n",
        "# 下面是两个句子里面需要进行预测的位置\n",
        "mlm_positions = torch.tensor([[1, 5, 2], [6, 1, 5]])\n",
        "# 这里的输入是上面BERT encoder的输出\n",
        "mlm_Y_hat = mlm(encoded_X, mlm_positions)\n",
        "# 输出的形状应该是: (batch_size, num_pred_positions, vocab_size)\n",
        "mlm_Y_hat.shape\n",
        "# (第几个输入, 这个输入需要预测的词元, 词元的预测值, 也就是vocab里面的编号)"
      ]
    },
    {
      "cell_type": "markdown",
      "metadata": {
        "id": "_HxU2pMDhATX",
        "origin_pos": 20
      },
      "source": [
        "通过掩码下的预测词元`mlm_Y`的真实标签`mlm_Y_hat`，我们可以计算在BERT预训练中的遮蔽语言模型任务的交叉熵损失。\n"
      ]
    },
    {
      "cell_type": "code",
      "execution_count": 12,
      "metadata": {
        "id": "SJj4y6NJhATX",
        "origin_pos": 22,
        "outputId": "4dc1e37e-4787-41a1-abd4-f18fadd613e7",
        "tab": [
          "pytorch"
        ]
      },
      "outputs": [
        {
          "data": {
            "text/plain": [
              "torch.Size([6])"
            ]
          },
          "execution_count": 12,
          "metadata": {},
          "output_type": "execute_result"
        }
      ],
      "source": [
        "# 假设下面是真实的词元编号\n",
        "mlm_Y = torch.tensor([[7, 8, 9], [10, 20, 30]])\n",
        "# 使用交叉熵, reduction='none'的意思是为每个位置单独计算交叉熵, 不求和或取平均\n",
        "loss = nn.CrossEntropyLoss(reduction='none')\n",
        "# 得全部拉平再进行交叉熵计算\n",
        "mlm_l = loss(mlm_Y_hat.reshape((-1, vocab_size)), mlm_Y.reshape(-1))\n",
        "mlm_l.shape"
      ]
    },
    {
      "cell_type": "markdown",
      "metadata": {
        "id": "kLLQooCyhATY",
        "origin_pos": 23
      },
      "source": [
        "### 下一句预测（Next Sentence Prediction）\n",
        "~~这个的实现很简单, 一个全连接层就完了~~\n",
        "\n",
        "这里依然使用一个单隐藏层的MLP来进行预测, 只是需要注意输入的只有`<cls>`这一个位置的特征.\n",
        "\n",
        "这里的实现有点搞, 我重构了一下, 把BERT里面的有个hidden拿了进来"
      ]
    },
    {
      "cell_type": "code",
      "execution_count": 39,
      "metadata": {
        "id": "xcdWAVfShATY",
        "origin_pos": 25,
        "tab": [
          "pytorch"
        ]
      },
      "outputs": [],
      "source": [
        "# @save\n",
        "class NextSentencePred(nn.Module):\n",
        "    \"\"\"BERT的下一句预测任务\"\"\"\n",
        "\n",
        "    def __init__(self, num_inputs,  num_hiddens, **kwargs):\n",
        "        super(NextSentencePred, self).__init__(**kwargs)\n",
        "        print(\"num_inputs:\", num_inputs)\n",
        "\n",
        "        self.output = nn.Sequential(\n",
        "            nn.Linear(num_inputs, num_hiddens),\n",
        "            nn.Tanh(),\n",
        "            nn.Linear(num_hiddens, 2))\n",
        "\n",
        "    def forward(self, X):\n",
        "        # X的形状：(batchsize,num_hiddens)\n",
        "        return self.output(X)\n"
      ]
    },
    {
      "cell_type": "markdown",
      "metadata": {
        "id": "WvA1DNUMhATY",
        "origin_pos": 26
      },
      "source": [
        "我们可以看到，`NextSentencePred`实例的前向推断返回每个BERT输入序列的二分类预测。\n"
      ]
    },
    {
      "cell_type": "code",
      "execution_count": 41,
      "metadata": {
        "id": "HirKGz14hATZ",
        "origin_pos": 28,
        "outputId": "9a3eef37-b527-4547-e69d-535857b068f5",
        "tab": [
          "pytorch"
        ]
      },
      "outputs": [
        {
          "name": "stdout",
          "output_type": "stream",
          "text": [
            "nsp_input torch.Size([2, 768])\n",
            "num_inputs: 768\n"
          ]
        },
        {
          "data": {
            "text/plain": [
              "torch.Size([2, 2])"
            ]
          },
          "execution_count": 41,
          "metadata": {},
          "output_type": "execute_result"
        }
      ],
      "source": [
        "nsp_input = encoded_X[:, 0, :]\n",
        "print(\"nsp_input\", nsp_input.shape)\n",
        "num_hiddens = 768\n",
        "# NSP的输入形状:(batchsize，num_hiddens) 只需要输入<cls>的特征\n",
        "nsp = NextSentencePred(nsp_input.shape[-1], num_hiddens)\n",
        "nsp_Y_hat = nsp(nsp_input)\n",
        "nsp_Y_hat.shape"
      ]
    },
    {
      "cell_type": "markdown",
      "metadata": {
        "id": "rvmQOZ1_hATZ",
        "origin_pos": 29
      },
      "source": [
        "还可以计算两个二元分类的交叉熵损失。\n"
      ]
    },
    {
      "cell_type": "code",
      "execution_count": 43,
      "metadata": {
        "id": "hLkvqFeJhATa",
        "origin_pos": 31,
        "outputId": "3e277838-11a2-4b28-d373-81cda5bdf002",
        "tab": [
          "pytorch"
        ]
      },
      "outputs": [
        {
          "name": "stdout",
          "output_type": "stream",
          "text": [
            "torch.Size([2])\n",
            "tensor([1.1009, 0.5678], grad_fn=<NllLossBackward0>)\n"
          ]
        }
      ],
      "source": [
        "nsp_y = torch.tensor([0, 1])\n",
        "# 这个loss就是前面的CE, 注意是reduction='none'的\n",
        "nsp_l = loss(nsp_Y_hat, nsp_y)\n",
        "print(nsp_l.shape)\n",
        "print(nsp_l)"
      ]
    },
    {
      "cell_type": "markdown",
      "metadata": {
        "id": "iRbINx6UhATa",
        "origin_pos": 32
      },
      "source": [
        "值得注意的是，上述两个预训练任务中的所有标签都可以从预训练语料库中获得，而无需人工标注。原始的BERT已经在图书语料库 :cite:`Zhu.Kiros.Zemel.ea.2015`和英文维基百科的连接上进行了预训练。这两个文本语料库非常庞大：它们分别有8亿个单词和25亿个单词。\n",
        "\n",
        "## 整合代码\n",
        "\n",
        "在预训练BERT时，最终的损失函数是掩蔽语言模型损失函数和下一句预测损失函数的线性组合。现在我们可以通过实例化三个类`BERTEncoder`、`MaskLM`和`NextSentencePred`来定义`BERTModel`类。前向推断返回编码后的BERT表示`encoded_X`、掩蔽语言模型预测`mlm_Y_hat`和下一句预测`nsp_Y_hat`。\n"
      ]
    },
    {
      "cell_type": "code",
      "execution_count": null,
      "metadata": {
        "id": "haH69vWrhATa",
        "origin_pos": 34,
        "tab": [
          "pytorch"
        ]
      },
      "outputs": [],
      "source": [
        "# @save\n",
        "class BERTModel(nn.Module):\n",
        "    \"\"\"BERT模型\"\"\"\n",
        "\n",
        "    def __init__(self,\n",
        "                 vocab_size,\n",
        "                 num_hiddens,\n",
        "                 norm_shape,\n",
        "                 ffn_num_input,\n",
        "                 ffn_num_hiddens,\n",
        "                 num_heads,\n",
        "                 num_layers,\n",
        "                 dropout,\n",
        "\n",
        "                 max_len=1000,\n",
        "                 #  这里设置默认大小768有点误导, 768是BERT base版本的hidden_size\n",
        "                 #  其实这里的维度要和前面的hidden_size对应起来,\n",
        "                 key_size=768,\n",
        "                 query_size=768,\n",
        "                 value_size=768,\n",
        "\n",
        "                 mlm_in_features=768,\n",
        "                 nsp_in_features=768):\n",
        "        super(BERTModel, self).__init__()\n",
        "        self.encoder = BERTEncoder(vocab_size, num_hiddens, norm_shape,\n",
        "                                   ffn_num_input, ffn_num_hiddens, num_heads, num_layers,\n",
        "                                   dropout, max_len=max_len, key_size=key_size,\n",
        "                                   query_size=query_size, value_size=value_size)\n",
        "\n",
        "        # mlm的hidden_size是768, 但是可以取不一样的\n",
        "        self.mlm = MaskLM(vocab_size, num_hiddens, mlm_in_features)\n",
        "        self.nsp = NextSentencePred(nsp_in_features, num_hiddens)\n",
        "\n",
        "    def forward(self, tokens, segments, valid_lens=None,\n",
        "                pred_positions=None):\n",
        "        encoded_X = self.encoder(tokens, segments, valid_lens)\n",
        "        if pred_positions is not None:\n",
        "            mlm_Y_hat = self.mlm(encoded_X, pred_positions)\n",
        "        else:\n",
        "            mlm_Y_hat = None\n",
        "        # 用于下一句预测的多层感知机分类器的隐藏层，0是“<cls>”标记的索引\n",
        "        nsp_Y_hat = self.nsp(encoded_X[:, 0, :])\n",
        "        return encoded_X, mlm_Y_hat, nsp_Y_hat\n"
      ]
    },
    {
      "cell_type": "code",
      "execution_count": 24,
      "metadata": {},
      "outputs": [
        {
          "name": "stdout",
          "output_type": "stream",
          "text": [
            "torch.Size([2, 8, 768])\n",
            "torch.Size([2, 768])\n"
          ]
        }
      ],
      "source": [
        "encoded_X[:, 0, :]\n",
        "print(encoded_X.shape)\n",
        "print(encoded_X[:, 0, :].shape)"
      ]
    },
    {
      "cell_type": "markdown",
      "metadata": {
        "id": "hmk5u32ChATb",
        "origin_pos": 35
      },
      "source": [
        "## 小结\n",
        "\n",
        "* word2vec和GloVe等词嵌入模型与上下文无关。它们将相同的预训练向量赋给同一个词，而不考虑词的上下文（如果有的话）。它们很难处理好自然语言中的一词多义或复杂语义。\n",
        "* 对于上下文敏感的词表示，如ELMo和GPT，词的表示依赖于它们的上下文。\n",
        "* ELMo对上下文进行双向编码，但使用特定于任务的架构（然而，为每个自然语言处理任务设计一个特定的体系架构实际上并不容易）；而GPT是任务无关的，但是从左到右编码上下文。\n",
        "* BERT结合了这两个方面的优点：它对上下文进行双向编码，并且需要对大量自然语言处理任务进行最小的架构更改。\n",
        "* BERT输入序列的嵌入是词元嵌入、片段嵌入和位置嵌入的和。\n",
        "* 预训练包括两个任务：掩蔽语言模型和下一句预测。前者能够编码双向上下文来表示单词，而后者则显式地建模文本对之间的逻辑关系。\n",
        "\n",
        "## 练习\n",
        "\n",
        "1. 为什么BERT成功了？\n",
        "1. 在所有其他条件相同的情况下，掩蔽语言模型比从左到右的语言模型需要更多或更少的预训练步骤来收敛吗？为什么？\n",
        "1. 在BERT的原始实现中，`BERTEncoder`中的位置前馈网络（通过`d2l.EncoderBlock`）和`MaskLM`中的全连接层都使用高斯误差线性单元（Gaussian error linear unit，GELU） :cite:`Hendrycks.Gimpel.2016`作为激活函数。研究GELU与ReLU之间的差异。\n"
      ]
    }
  ],
  "metadata": {
    "colab": {
      "name": "bert.ipynb",
      "provenance": []
    },
    "kernelspec": {
      "display_name": "Python 3",
      "name": "python3"
    },
    "language_info": {
      "codemirror_mode": {
        "name": "ipython",
        "version": 3
      },
      "file_extension": ".py",
      "mimetype": "text/x-python",
      "name": "python",
      "nbconvert_exporter": "python",
      "pygments_lexer": "ipython3",
      "version": "3.8.12"
    }
  },
  "nbformat": 4,
  "nbformat_minor": 0
}
