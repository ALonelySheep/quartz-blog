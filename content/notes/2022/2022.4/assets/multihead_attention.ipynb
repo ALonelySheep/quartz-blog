{
  "cells": [
    {
      "cell_type": "code",
      "execution_count": null,
      "metadata": {
        "id": "CXNtnLsL2FPX",
        "origin_pos": 2,
        "tab": [
          "pytorch"
        ]
      },
      "outputs": [],
      "source": [
        "import math\n",
        "import torch\n",
        "from torch import nn\n",
        "from d2l import torch as d2l"
      ]
    },
    {
      "cell_type": "markdown",
      "metadata": {
        "id": "3CvIeTjN2FPY",
        "origin_pos": 4
      },
      "source": [
        "在实现过程中，我们[**选择缩放点积注意力作为每一个注意力头**]。\n",
        "为了避免计算代价和参数代价的大幅增长，\n",
        "我们设定$p_q = p_k = p_v = p_o / h$。\n",
        "值得注意的是，如果我们将查询、键和值的线性变换的输出数量设置为\n",
        "$p_q h = p_k h = p_v h = p_o$，\n",
        "则可以并行计算$h$个头。\n",
        "在下面的实现中，$p_o$是通过参数`num_hiddens`指定的。"
      ]
    },
    {
      "cell_type": "code",
      "execution_count": null,
      "metadata": {
        "id": "zISt700k2FPZ",
        "origin_pos": 6,
        "tab": [
          "pytorch"
        ]
      },
      "outputs": [],
      "source": [
        "#@save\n",
        "class MultiHeadAttention(nn.Module):\n",
        "    \"\"\"多头注意力\"\"\"\n",
        "    def __init__(self, key_size, query_size, value_size, num_hiddens,\n",
        "                 num_heads, dropout, bias=False, **kwargs):\n",
        "        super(MultiHeadAttention, self).__init__(**kwargs)\n",
        "        self.num_heads = num_heads\n",
        "        self.attention = d2l.DotProductAttention(dropout)\n",
        "        self.W_q = nn.Linear(query_size, num_hiddens, bias=bias)\n",
        "        self.W_k = nn.Linear(key_size, num_hiddens, bias=bias)\n",
        "        self.W_v = nn.Linear(value_size, num_hiddens, bias=bias)\n",
        "        self.W_o = nn.Linear(num_hiddens, num_hiddens, bias=bias)\n",
        "\n",
        "    def forward(self, queries, keys, values, valid_lens):\n",
        "        # queries，keys，values的形状:\n",
        "        # (batch_size，查询或者“键－值”对的个数，num_hiddens)\n",
        "        # valid_lens　的形状:\n",
        "        # (batch_size，)或(batch_size，查询的个数)\n",
        "        # 经过变换后，输出的queries，keys，values　的形状:\n",
        "        # (batch_size*num_heads，查询或者“键－值”对的个数， num_hiddens/num_heads)\n",
        "        queries = transpose_qkv(self.W_q(queries), self.num_heads)\n",
        "        keys = transpose_qkv(self.W_k(keys), self.num_heads)\n",
        "        values = transpose_qkv(self.W_v(values), self.num_heads)\n",
        "\n",
        "        if valid_lens is not None:\n",
        "            # 在轴0，将第一项（标量或者矢量）复制num_heads次，\n",
        "            # 然后如此复制第二项，然后诸如此类。\n",
        "            valid_lens = torch.repeat_interleave(\n",
        "                valid_lens, repeats=self.num_heads, dim=0)\n",
        "\n",
        "        # output的形状:(batch_size*num_heads，查询的个数， num_hiddens/num_heads)\n",
        "        output = self.attention(queries, keys, values, valid_lens)\n",
        "\n",
        "        # output_concat的形状:(batch_size，查询的个数，num_hiddens)\n",
        "        output_concat = transpose_output(output, self.num_heads)\n",
        "        return self.W_o(output_concat)"
      ]
    },
    {
      "cell_type": "markdown",
      "metadata": {
        "id": "Ihd7I1Zf2FPa",
        "origin_pos": 8
      },
      "source": [
        "为了能够[**使多个头并行计算**]，\n",
        "上面的`MultiHeadAttention`类将使用下面定义的两个转置函数。\n",
        "具体来说，`transpose_output`函数反转了`transpose_qkv`函数的操作。\n"
      ]
    },
    {
      "cell_type": "code",
      "execution_count": null,
      "metadata": {
        "id": "HPr6JaH82FPb",
        "origin_pos": 10,
        "tab": [
          "pytorch"
        ]
      },
      "outputs": [],
      "source": [
        "#@save\n",
        "def transpose_qkv(X, num_heads):\n",
        "    \"\"\"为了多注意力头的并行计算而变换形状\"\"\"\n",
        "    # Step 1, 对线性变换后的qkv进行分组(按照不同的\"头\")\n",
        "    # 输入X的形状:(batch_size，查询或者“键－值”对的个数，num_hiddens)\n",
        "    # 输出X的形状:(batch_size，查询或者“键－值”对的个数，num_heads，num_hiddens/num_heads)\n",
        "    X = X.reshape(X.shape[0], X.shape[1], num_heads, -1)\n",
        "\n",
        "    # Step 2, 将head移到前面去, 为了和batch进行合并\n",
        "    # 输出X的形状:(batch_size，num_heads，查询或者“键－值”对的个数, num_hiddens/num_heads)\n",
        "    X = X.permute(0, 2, 1, 3)\n",
        "\n",
        "    # Step 3, 将qkv按照 Batch * head 的方式进行排序\n",
        "    # 意思是现在的数据排列方式为: (假设有一个Batch有2组数据, 3个head)\n",
        "    # \n",
        "    #                       ┍  head 1,   查询或者“键－值”对的个数,    num_hiddens/num_heads(变换后的QKV) \n",
        "    #         ┍ 1st elememt ┥  head 2,   查询或者“键－值”对的个数,    num_hiddens/num_heads(变换后的QKV) \n",
        "    #  Batch  ┥             ┕  head 3,   查询或者“键－值”对的个数,    num_hiddens/num_heads(变换后的QKV) \n",
        "    #         |             ┍  head 1,   查询或者“键－值”对的个数,    num_hiddens/num_heads(变换后的QKV) \n",
        "    #         ┕ 2nd element ┥  head 2,   查询或者“键－值”对的个数,    num_hiddens/num_heads(变换后的QKV) \n",
        "    #                       ┕  head 3,   查询或者“键－值”对的个数,    num_hiddens/num_heads(变换后的QKV)\n",
        "    #    \n",
        "    # 最终输出的形状:(batch_size*num_heads,查询或者“键－值”对的个数, num_hiddens/num_heads)\n",
        "    return X.reshape(-1, X.shape[2], X.shape[3])\n",
        "\n",
        "\n",
        "#@save\n",
        "def transpose_output(X, num_heads):\n",
        "    \"\"\"逆转transpose_qkv函数的操作\"\"\"\n",
        "    X = X.reshape(-1, num_heads, X.shape[1], X.shape[2])\n",
        "    X = X.permute(0, 2, 1, 3)\n",
        "    return X.reshape(X.shape[0], X.shape[1], -1)"
      ]
    },
    {
      "cell_type": "markdown",
      "metadata": {
        "id": "h2sohrep2FPc",
        "origin_pos": 12
      },
      "source": [
        "下面我们使用键和值相同的小例子来[**测试**]我们编写的`MultiHeadAttention`类。\n",
        "多头注意力输出的形状是（`batch_size`，`num_queries`，`num_hiddens`）。\n"
      ]
    },
    {
      "cell_type": "code",
      "execution_count": null,
      "metadata": {
        "id": "jW4VKGik2FPd",
        "origin_pos": 14,
        "outputId": "fa88b002-7232-48f7-d089-fc05b6187e3a",
        "tab": [
          "pytorch"
        ]
      },
      "outputs": [
        {
          "data": {
            "text/plain": [
              "MultiHeadAttention(\n",
              "  (attention): DotProductAttention(\n",
              "    (dropout): Dropout(p=0.5, inplace=False)\n",
              "  )\n",
              "  (W_q): Linear(in_features=100, out_features=100, bias=False)\n",
              "  (W_k): Linear(in_features=100, out_features=100, bias=False)\n",
              "  (W_v): Linear(in_features=100, out_features=100, bias=False)\n",
              "  (W_o): Linear(in_features=100, out_features=100, bias=False)\n",
              ")"
            ]
          },
          "execution_count": 4,
          "metadata": {},
          "output_type": "execute_result"
        }
      ],
      "source": [
        "num_hiddens, num_heads = 100, 5\n",
        "attention = MultiHeadAttention(num_hiddens, num_hiddens, num_hiddens,\n",
        "                               num_hiddens, num_heads, 0.5)\n",
        "attention.eval()"
      ]
    },
    {
      "cell_type": "code",
      "execution_count": null,
      "metadata": {
        "id": "puIvVj2c2FPe",
        "origin_pos": 16,
        "outputId": "da1b74f6-223e-477b-ab6b-da597cd77b19",
        "tab": [
          "pytorch"
        ]
      },
      "outputs": [
        {
          "data": {
            "text/plain": [
              "torch.Size([2, 4, 100])"
            ]
          },
          "execution_count": 5,
          "metadata": {},
          "output_type": "execute_result"
        }
      ],
      "source": [
        "batch_size, num_queries = 2, 4\n",
        "num_kvpairs, valid_lens =  6, torch.tensor([3, 2])\n",
        "X = torch.ones((batch_size, num_queries, num_hiddens))\n",
        "Y = torch.ones((batch_size, num_kvpairs, num_hiddens))\n",
        "attention(X, Y, Y, valid_lens).shape"
      ]
    }
  ],
  "metadata": {
    "colab": {
      "name": "multihead-attention.ipynb",
      "provenance": []
    },
    "kernelspec": {
      "display_name": "Python 3",
      "name": "python3"
    },
    "language_info": {
      "name": "python"
    }
  },
  "nbformat": 4,
  "nbformat_minor": 0
}
